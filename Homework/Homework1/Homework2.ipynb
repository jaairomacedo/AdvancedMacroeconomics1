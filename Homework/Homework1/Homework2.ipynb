{
 "cells": [
  {
   "cell_type": "markdown",
   "metadata": {},
   "source": [
    "# Advanced Macroeconomics 1: Homework 2"
   ]
  },
  {
   "cell_type": "markdown",
   "metadata": {},
   "source": [
    "## Settings"
   ]
  },
  {
   "cell_type": "code",
   "execution_count": null,
   "metadata": {},
   "outputs": [],
   "source": [
    "import pandas as pd  # Data manipulation and analysis\n",
    "import numpy as np  # Numerical operations\n",
    "import matplotlib.pyplot as plt  # Data visualization\n",
    "\n",
    "import statsmodels.api as sm  # Statistical models\n",
    "from statsmodels.tsa.stattools import adfuller, acf, pacf  # Time series analysis tools\n",
    "from statsmodels.tsa.arima.model import ARIMA  # ARIMA model for time series forecasting\n",
    "\n",
    "from statsmodels.graphics.tsaplots import plot_acf # Autocorrelation Function ( ACF )\n",
    "from statsmodels.graphics.tsaplots import plot_pacf # Partial Autocorrelation Function (PACF\n",
    "from statsmodels.stats.diagnostic import acorr_ljungbox\n",
    "\n",
    "from collections import Counter\n",
    "\n",
    "import seaborn as sns\n",
    "\n",
    "import warnings\n",
    "\n",
    "import ipeadatapy as ipea\n",
    "\n",
    "import sklearn\n",
    "import matplotlib.pyplot as plt\n",
    "from sklearn.metrics import mean_squared_error\n",
    "\n",
    "\n",
    "import random\n",
    "\n",
    "seed = 42\n",
    "np.random.seed(seed)\n",
    "random.seed(seed)"
   ]
  },
  {
   "cell_type": "code",
   "execution_count": null,
   "metadata": {},
   "outputs": [],
   "source": [
    "rgb_color = (162 / 255, 37 / 255, 56 / 255)  # Red"
   ]
  },
  {
   "cell_type": "code",
   "execution_count": null,
   "metadata": {},
   "outputs": [],
   "source": [
    "warnings.filterwarnings(\"ignore\")"
   ]
  },
  {
   "cell_type": "markdown",
   "metadata": {},
   "source": [
    "## Questions"
   ]
  },
  {
   "cell_type": "markdown",
   "metadata": {},
   "source": [
    "### Question 1\n",
    "Using the data file **dados_hmw_1.xls** and the software of your choice, apply the **Box Jenkins** methodology. You should:\n",
    "\n"
   ]
  }
 ],
 "metadata": {
  "kernelspec": {
   "display_name": "Python 3",
   "language": "python",
   "name": "python3"
  },
  "language_info": {
   "name": "python",
   "version": "3.13.2"
  }
 },
 "nbformat": 4,
 "nbformat_minor": 2
}
